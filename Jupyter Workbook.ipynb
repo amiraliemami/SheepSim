{
 "cells": [
  {
   "cell_type": "markdown",
   "metadata": {},
   "source": [
    "## TO DO:\n",
    "\n",
    "- Add more comments\n",
    "- Add more tests, also for timing and efficiency"
   ]
  },
  {
   "cell_type": "markdown",
   "metadata": {},
   "source": [
    "##### Imports"
   ]
  },
  {
   "cell_type": "code",
   "execution_count": 1,
   "metadata": {
    "collapsed": true
   },
   "outputs": [],
   "source": [
    "import random\n",
    "random.seed(10)\n",
    "\n",
    "import numpy as np\n",
    "\n",
    "import matplotlib.pyplot as plt"
   ]
  },
  {
   "cell_type": "markdown",
   "metadata": {},
   "source": [
    "## 1. Agent-Based Modelling"
   ]
  },
  {
   "cell_type": "code",
   "execution_count": 2,
   "metadata": {},
   "outputs": [
    {
     "name": "stdout",
     "output_type": "stream",
     "text": [
      "Initial:  50 50\n",
      "Perturbed:  49 51\n",
      "5 more steps...  50 52\n"
     ]
    },
    {
     "data": {
      "text/plain": [
       "1.4142135623730951"
      ]
     },
     "execution_count": 2,
     "metadata": {},
     "output_type": "execute_result"
    }
   ],
   "source": [
    "y0, x0 = 50, 50 # y then x because of reading image files\n",
    "print('Initial: ',x0,y0)\n",
    "\n",
    "# import random\n",
    "random.seed(10)\n",
    "\n",
    "def perturb(x): \n",
    "    return x + random.choice([-1,1])\n",
    "\n",
    "x0, y0 = perturb(x0), perturb(y0) \n",
    "print('Perturbed: ',x0, y0)\n",
    "\n",
    "x, y = x0, y0\n",
    "for _ in range(5):\n",
    "    x, y = perturb(x), perturb(y)\n",
    "print('5 more steps... ', x, y)\n",
    "\n",
    "# import numpy as np\n",
    "\n",
    "def distance(x0,y0,x1,y1):\n",
    "    return np.sqrt((x1-x0)**2 + (y1-y0)**2)\n",
    "\n",
    "distance(x0,y0,x,y)"
   ]
  },
  {
   "cell_type": "markdown",
   "metadata": {},
   "source": [
    "## 2. Code Shrinking I"
   ]
  },
  {
   "cell_type": "code",
   "execution_count": 3,
   "metadata": {},
   "outputs": [
    {
     "data": {
      "text/plain": [
       "[[73, 4], [54, 61]]"
      ]
     },
     "execution_count": 3,
     "metadata": {},
     "output_type": "execute_result"
    }
   ],
   "source": [
    "agents = []\n",
    "random.seed(10)\n",
    "for _ in range(2):\n",
    "    agents.append([random.randint(0,99),random.randint(0,99)])\n",
    "agents"
   ]
  },
  {
   "cell_type": "code",
   "execution_count": 4,
   "metadata": {},
   "outputs": [
    {
     "name": "stdout",
     "output_type": "stream",
     "text": [
      "Normal:  [73, 4]\n",
      "itemgetter:  [54, 61]\n",
      "Custom key:  [54, 61]\n"
     ]
    }
   ],
   "source": [
    "print('Normal: ',max(agents))\n",
    "\n",
    "import operator\n",
    "print('itemgetter: ',max(agents,key=operator.itemgetter(1)))\n",
    "\n",
    "# or use custom:\n",
    "def second(l):\n",
    "    return l[1]\n",
    "print('Custom key: ',max(agents,key=second))"
   ]
  },
  {
   "cell_type": "code",
   "execution_count": 5,
   "metadata": {
    "scrolled": false
   },
   "outputs": [
    {
     "data": {
      "image/png": "[encoded data removed]",
      "text/plain": [
       "<Figure size 432x288 with 1 Axes>"
      ]
     },
     "metadata": {
      "needs_background": "light"
     },
     "output_type": "display_data"
    },
    {
     "data": {
      "image/png": "[encoded data removed]",
      "text/plain": [
       "<Figure size 432x288 with 1 Axes>"
      ]
     },
     "metadata": {
      "needs_background": "light"
     },
     "output_type": "display_data"
    }
   ],
   "source": [
    "#import matplotlib.pyplot as plt\n",
    "plt.ylim(0, 99)\n",
    "plt.xlim(0, 99)\n",
    "plt.scatter(agents[0][0],agents[0][1])\n",
    "plt.scatter(agents[1][0],agents[1][1])\n",
    "plt.show()\n",
    "\n",
    "# alternative plotting method using numpy slicing\n",
    "np_agents = np.array(agents)\n",
    "plt.ylim(0, 99)\n",
    "plt.xlim(0, 99)\n",
    "plt.scatter(np_agents[:,0],np_agents[:,1],c=['blue','orange'])\n",
    "plt.title('alternative plotting method')\n",
    "plt.show()"
   ]
  },
  {
   "cell_type": "markdown",
   "metadata": {},
   "source": [
    "## 3. Code Skrinking II"
   ]
  },
  {
   "cell_type": "code",
   "execution_count": 6,
   "metadata": {},
   "outputs": [
    {
     "data": {
      "image/png": "[encoded data removed]",
      "text/plain": [
       "<Figure size 432x288 with 1 Axes>"
      ]
     },
     "metadata": {
      "needs_background": "light"
     },
     "output_type": "display_data"
    }
   ],
   "source": [
    "random.seed(100)\n",
    "\n",
    "#### INITIALISE\n",
    "\n",
    "num_of_agents = 10\n",
    "agents = []\n",
    "for _ in range(num_of_agents):\n",
    "    agents.append([random.randint(0,100),random.randint(0,100)])\n",
    "\n",
    "#### UPDATE POSITIONS\n",
    "\n",
    "agents_new = agents.copy()\n",
    "for i in range(len(agents)):\n",
    "    x,y = agents[i]\n",
    "    for _ in range(2):\n",
    "        x, y = perturb(x), perturb(y)\n",
    "    # update agent coordinates\n",
    "    agents_new[i] = [x,y]\n",
    "\n",
    "#### PLOT \n",
    "\n",
    "# plot initial positions\n",
    "np_agents = np.array(agents)\n",
    "plt.scatter(np_agents[:,0],np_agents[:,1],c='teal',label='Initial')\n",
    "# plot final positions\n",
    "np_agents_new = np.array(agents_new)\n",
    "plt.scatter(np_agents_new[:,0],np_agents_new[:,1],c='orange',label='Final')\n",
    "\n",
    "plt.title('Initial and final positions of agents')\n",
    "plt.ylim(0, 100)\n",
    "plt.xlim(0, 100)\n",
    "plt.legend()\n",
    "plt.show()"
   ]
  },
  {
   "cell_type": "markdown",
   "metadata": {},
   "source": [
    "Dealing with boundries..."
   ]
  },
  {
   "cell_type": "code",
   "execution_count": 7,
   "metadata": {
    "collapsed": true
   },
   "outputs": [],
   "source": [
    "def perturb_new(x): \n",
    "    return (x + random.choice([-1,1])) % 100"
   ]
  },
  {
   "cell_type": "code",
   "execution_count": 8,
   "metadata": {},
   "outputs": [
    {
     "data": {
      "image/png": "[encoded data removed]",
      "text/plain": [
       "<Figure size 432x288 with 1 Axes>"
      ]
     },
     "metadata": {
      "needs_background": "light"
     },
     "output_type": "display_data"
    }
   ],
   "source": [
    "random.seed(100)\n",
    "\n",
    "#### INITIALISE\n",
    "\n",
    "num_of_agents = 10\n",
    "agents = []\n",
    "for _ in range(num_of_agents):\n",
    "    agents.append([random.randint(0,100),random.randint(0,100)])\n",
    "\n",
    "#### UPDATE POSITIONS\n",
    "\n",
    "agents_new = agents.copy()\n",
    "for i in range(len(agents)):\n",
    "    x,y = agents[i]\n",
    "    for _ in range(10):\n",
    "        x, y = perturb_new(x), perturb_new(y)\n",
    "    # update agent coordinates\n",
    "    agents_new[i] = [x,y]\n",
    "\n",
    "#### PLOT \n",
    "\n",
    "# plot initial positions\n",
    "np_agents = np.array(agents)\n",
    "plt.scatter(np_agents[:,0],np_agents[:,1],c='teal',label='Initial')\n",
    "# plot final positions\n",
    "np_agents_new = np.array(agents_new)\n",
    "plt.scatter(np_agents_new[:,0],np_agents_new[:,1],c='orange',label='Final')\n",
    "\n",
    "plt.title('Torus plane - Initial and final positions of agents')\n",
    "plt.ylim(0, 100)\n",
    "plt.xlim(0, 100)\n",
    "plt.legend()\n",
    "plt.show()"
   ]
  },
  {
   "cell_type": "markdown",
   "metadata": {},
   "source": [
    "## 4. Building Tools"
   ]
  },
  {
   "cell_type": "code",
   "execution_count": 9,
   "metadata": {
    "collapsed": true
   },
   "outputs": [],
   "source": [
    "# import time\n",
    "# start = time.clock()\n",
    "# # The code to run, here.\n",
    "# end = time.clock()\n",
    "# print(\"time = \" + str(end - start))"
   ]
  },
  {
   "cell_type": "code",
   "execution_count": 10,
   "metadata": {
    "collapsed": true
   },
   "outputs": [],
   "source": [
    "def distance_between(agents_row_a, agents_row_b):\n",
    "    return np.sqrt(\n",
    "        ((agents_row_a[0] - agents_row_b[0])**2) \n",
    "        + ((agents_row_a[1] - agents_row_b[1])**2))"
   ]
  },
  {
   "cell_type": "code",
   "execution_count": 11,
   "metadata": {},
   "outputs": [
    {
     "name": "stdout",
     "output_type": "stream",
     "text": [
      "Min:  1.0  Max:  93.74\n"
     ]
    },
    {
     "data": {
      "image/png": "[encoded data removed]",
      "text/plain": [
       "<Figure size 432x288 with 1 Axes>"
      ]
     },
     "metadata": {
      "needs_background": "light"
     },
     "output_type": "display_data"
    }
   ],
   "source": [
    "dists = []\n",
    "for i in range(num_of_agents):\n",
    "    agent_a = agents_new[i]\n",
    "    for j in range(num_of_agents):\n",
    "        # 2. Don't check against itself\n",
    "        if i != j:\n",
    "            agent_b = agents_new[j]\n",
    "            dists.append(distance_between(agent_a,agent_b))\n",
    "print('Min: ',round(min(dists),2),' Max: ',round(max(dists),2))\n",
    "plt.hist(dists,bins=20)\n",
    "plt.title('Histogram of distances between agents')\n",
    "plt.show()"
   ]
  },
  {
   "cell_type": "markdown",
   "metadata": {},
   "source": [
    "#### Do the above for different number of agents:"
   ]
  },
  {
   "cell_type": "code",
   "execution_count": 12,
   "metadata": {
    "collapsed": true
   },
   "outputs": [],
   "source": [
    "def run_sim(num_of_agents,num_runs,plot=False):\n",
    "    \n",
    "    random.seed(100)\n",
    "    \n",
    "    #### INITIALISE\n",
    "    agents = []\n",
    "    for _ in range(num_of_agents):\n",
    "        agents.append([random.randint(0,100),random.randint(0,100)])\n",
    "\n",
    "    #### UPDATE POSITIONS\n",
    "\n",
    "    agents_new = agents.copy()\n",
    "    for i in range(len(agents)):\n",
    "        x,y = agents[i]\n",
    "        for _ in range(num_runs):\n",
    "            x, y = perturb_new(x), perturb_new(y)\n",
    "        # update agent coordinates\n",
    "        agents_new[i] = [x,y]\n",
    "    \n",
    "    if plot:\n",
    "        #### PLOT \n",
    "\n",
    "        # plot initial positions\n",
    "        np_agents = np.array(agents)\n",
    "        plt.scatter(np_agents[:,0],np_agents[:,1],c='teal')\n",
    "        # plot final positions\n",
    "        np_agents_new = np.array(agents_new)\n",
    "        plt.scatter(np_agents_new[:,0],np_agents_new[:,1],c='orange')\n",
    "\n",
    "        plt.ylim(0, 100)\n",
    "        plt.xlim(0, 100)\n",
    "        plt.show()\n",
    "    \n",
    "    dists = []\n",
    "    for i in range(num_of_agents):\n",
    "        agent_a = agents_new[i]\n",
    "        for j in range(num_of_agents):\n",
    "            # 2. Don't check against itself\n",
    "            if i != j:\n",
    "                agent_b = agents_new[j]\n",
    "                dists.append(distance_between(agent_a,agent_b))\n",
    "    \n",
    "    return dists"
   ]
  },
  {
   "cell_type": "code",
   "execution_count": 13,
   "metadata": {},
   "outputs": [
    {
     "data": {
      "image/png": "[encoded data removed]",
      "text/plain": [
       "<Figure size 432x288 with 1 Axes>"
      ]
     },
     "metadata": {
      "needs_background": "light"
     },
     "output_type": "display_data"
    }
   ],
   "source": [
    "# test\n",
    "dists = run_sim(10,100,True)"
   ]
  },
  {
   "cell_type": "code",
   "execution_count": 14,
   "metadata": {
    "collapsed": true
   },
   "outputs": [],
   "source": [
    "# Time it...\n",
    "import time"
   ]
  },
  {
   "cell_type": "code",
   "execution_count": 15,
   "metadata": {
    "collapsed": true
   },
   "outputs": [],
   "source": [
    "times = []\n",
    "Ns_to_test = list(range(1,800,50))\n",
    "\n",
    "for n in Ns_to_test:\n",
    "    start = time.clock()\n",
    "    _ = run_sim(n,100)\n",
    "    end = time.clock()\n",
    "    times.append(end - start)"
   ]
  },
  {
   "cell_type": "code",
   "execution_count": 16,
   "metadata": {},
   "outputs": [
    {
     "data": {
      "image/png": "[encoded data removed]",
      "text/plain": [
       "<Figure size 432x288 with 1 Axes>"
      ]
     },
     "metadata": {
      "needs_background": "light"
     },
     "output_type": "display_data"
    }
   ],
   "source": [
    "plt.scatter(Ns_to_test,times)\n",
    "plt.title('Time taken to run simulations')\n",
    "plt.ylabel('Time Taken [s]')\n",
    "plt.xlabel('Number of Agents')\n",
    "plt.show()"
   ]
  },
  {
   "cell_type": "markdown",
   "metadata": {},
   "source": [
    "## 5. Agents!"
   ]
  },
  {
   "cell_type": "code",
   "execution_count": 1,
   "metadata": {
    "collapsed": true
   },
   "outputs": [],
   "source": [
    "import agentframework as af"
   ]
  },
  {
   "cell_type": "code",
   "execution_count": 2,
   "metadata": {},
   "outputs": [],
   "source": [
    "agent_1 = af.Agent(10,100)"
   ]
  },
  {
   "cell_type": "code",
   "execution_count": 3,
   "metadata": {},
   "outputs": [
    {
     "name": "stdout",
     "output_type": "stream",
     "text": [
      "Hello!\n"
     ]
    }
   ],
   "source": [
    "agent_1.speak()"
   ]
  },
  {
   "cell_type": "code",
   "execution_count": 4,
   "metadata": {},
   "outputs": [
    {
     "data": {
      "text/plain": [
       "10"
      ]
     },
     "execution_count": 4,
     "metadata": {},
     "output_type": "execute_result"
    }
   ],
   "source": [
    "agent_1.x"
   ]
  },
  {
   "cell_type": "code",
   "execution_count": 5,
   "metadata": {
    "collapsed": true
   },
   "outputs": [],
   "source": [
    "agent_1.randomise()"
   ]
  },
  {
   "cell_type": "code",
   "execution_count": 6,
   "metadata": {},
   "outputs": [
    {
     "data": {
      "text/plain": [
       "41"
      ]
     },
     "execution_count": 6,
     "metadata": {},
     "output_type": "execute_result"
    }
   ],
   "source": [
    "agent_1.x"
   ]
  },
  {
   "cell_type": "code",
   "execution_count": 4,
   "metadata": {
    "collapsed": true
   },
   "outputs": [],
   "source": [
    "import rockettest"
   ]
  },
  {
   "cell_type": "code",
   "execution_count": 5,
   "metadata": {},
   "outputs": [
    {
     "name": "stdout",
     "output_type": "stream",
     "text": [
      "importing-------\n",
      "building object-------\n",
      "rocket 1 detonated at [20, 40]\n",
      "rocket 2 at [20, 40]\n"
     ]
    }
   ],
   "source": [
    "print(\"importing-------\")\n",
    "import rockettest\n",
    "\n",
    "print(\"building object-------\")\n",
    "rocket_target1 = rockettest.Rocket()\n",
    "rocket_target2 = rockettest.Rocket()\n",
    "\n",
    "minutes_to_detonation = 4\n",
    "\n",
    "# Set start to launch site for  both.\n",
    "rocket_target1.set_start_location([20,40])\n",
    "rocket_target2.set_start_location([20,40])\n",
    "\n",
    "# Only launch rocket 1.\n",
    "rocket_target1.launched = True\n",
    "rocket_target2.launched = False\n",
    "\n",
    "# Update positions so we know where both rockets are.\n",
    "for i in range(minutes_to_detonation, 0, -1):\n",
    "    rocket_target1.update_location()\n",
    "    rocket_target2.update_location()\n",
    "        \n",
    "# Explode rocket 1\n",
    "print(\"rocket 1 detonated at \" + str(rocket_target1.current_coordinates))\n",
    "print(\"rocket 2 at \" + str(rocket_target2.current_coordinates)) \n"
   ]
  },
  {
   "cell_type": "code",
   "execution_count": null,
   "metadata": {
    "collapsed": true
   },
   "outputs": [],
   "source": []
  }
 ],
 "metadata": {
  "kernelspec": {
   "display_name": "Python 3",
   "language": "python",
   "name": "python3"
  },
  "language_info": {
   "codemirror_mode": {
    "name": "ipython",
    "version": 3
   },
   "file_extension": ".py",
   "mimetype": "text/x-python",
   "name": "python",
   "nbconvert_exporter": "python",
   "pygments_lexer": "ipython3",
   "version": "3.6.1"
  }
 },
 "nbformat": 4,
 "nbformat_minor": 2
}
