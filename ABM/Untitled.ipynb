{
 "cells": [
  {
   "cell_type": "code",
   "execution_count": 44,
   "metadata": {},
   "outputs": [
    {
     "name": "stdout",
     "output_type": "stream",
     "text": [
      "Initial:  50 50\n"
     ]
    }
   ],
   "source": [
    "y0, x0 = 50, 50 # y then x because of reading image files\n",
    "print('Initial: ',x0,y0)\n",
    "\n",
    "from random import choice\n",
    "def perturb(x): \n",
    "    pert = choice([-1,1])\n",
    "    return x + pert"
   ]
  },
  {
   "cell_type": "code",
   "execution_count": 45,
   "metadata": {},
   "outputs": [
    {
     "name": "stdout",
     "output_type": "stream",
     "text": [
      "Perturbed:  49 51\n"
     ]
    }
   ],
   "source": [
    "x0, y0 = perturb(x0), perturb(y0) \n",
    "print('Perturbed: ',x0, y0)"
   ]
  },
  {
   "cell_type": "code",
   "execution_count": 46,
   "metadata": {},
   "outputs": [
    {
     "name": "stdout",
     "output_type": "stream",
     "text": [
      "5 more steps...  50 56\n"
     ]
    }
   ],
   "source": [
    "x, y = x0, y0\n",
    "for _ in range(5):\n",
    "    x, y = perturb(x), perturb(y)\n",
    "print('5 more steps... ', x, y)"
   ]
  },
  {
   "cell_type": "code",
   "execution_count": 47,
   "metadata": {
    "collapsed": true
   },
   "outputs": [],
   "source": [
    "import numpy as np\n",
    "def distance(x0,y0,x1,y1):\n",
    "    return np.sqrt((x1-x0)**2 + (y1-y0)**2)"
   ]
  },
  {
   "cell_type": "code",
   "execution_count": 49,
   "metadata": {},
   "outputs": [
    {
     "data": {
      "text/plain": [
       "5.0990195135927845"
      ]
     },
     "execution_count": 49,
     "metadata": {},
     "output_type": "execute_result"
    }
   ],
   "source": [
    "distance(x0,y0,x,y)"
   ]
  },
  {
   "cell_type": "code",
   "execution_count": null,
   "metadata": {
    "collapsed": true
   },
   "outputs": [],
   "source": []
  }
 ],
 "metadata": {
  "kernelspec": {
   "display_name": "Python 3",
   "language": "python",
   "name": "python3"
  },
  "language_info": {
   "codemirror_mode": {
    "name": "ipython",
    "version": 3
   },
   "file_extension": ".py",
   "mimetype": "text/x-python",
   "name": "python",
   "nbconvert_exporter": "python",
   "pygments_lexer": "ipython3",
   "version": "3.6.1"
  }
 },
 "nbformat": 4,
 "nbformat_minor": 2
}
