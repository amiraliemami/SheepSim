{
 "cells": [
  {
   "cell_type": "markdown",
   "metadata": {},
   "source": [
    "##### Imports"
   ]
  },
  {
   "cell_type": "code",
   "execution_count": 77,
   "metadata": {
    "collapsed": true
   },
   "outputs": [],
   "source": [
    "import random\n",
    "random.seed(100)\n",
    "\n",
    "import numpy as np\n",
    "\n",
    "import matplotlib.pyplot as plt"
   ]
  },
  {
   "cell_type": "markdown",
   "metadata": {},
   "source": [
    "### Agent-Based Modelling"
   ]
  },
  {
   "cell_type": "code",
   "execution_count": 78,
   "metadata": {},
   "outputs": [
    {
     "name": "stdout",
     "output_type": "stream",
     "text": [
      "Initial:  50 50\n",
      "Perturbed:  49 51\n",
      "5 more steps...  52 50\n"
     ]
    },
    {
     "data": {
      "text/plain": [
       "3.1622776601683795"
      ]
     },
     "execution_count": 78,
     "metadata": {},
     "output_type": "execute_result"
    }
   ],
   "source": [
    "y0, x0 = 50, 50 # y then x because of reading image files\n",
    "print('Initial: ',x0,y0)\n",
    "\n",
    "# import random\n",
    "# random.seed(100)\n",
    "\n",
    "def perturb(x): \n",
    "    pert = random.choice([-1,1])\n",
    "    return x + pert\n",
    "\n",
    "x0, y0 = perturb(x0), perturb(y0) \n",
    "print('Perturbed: ',x0, y0)\n",
    "\n",
    "x, y = x0, y0\n",
    "for _ in range(5):\n",
    "    x, y = perturb(x), perturb(y)\n",
    "print('5 more steps... ', x, y)\n",
    "\n",
    "# import numpy as np\n",
    "\n",
    "def distance(x0,y0,x1,y1):\n",
    "    return np.sqrt((x1-x0)**2 + (y1-y0)**2)\n",
    "\n",
    "distance(x0,y0,x,y)"
   ]
  },
  {
   "cell_type": "markdown",
   "metadata": {},
   "source": [
    "### Code Shrinking I"
   ]
  },
  {
   "cell_type": "code",
   "execution_count": 79,
   "metadata": {},
   "outputs": [
    {
     "data": {
      "text/plain": [
       "[[6, 84], [82, 26]]"
      ]
     },
     "execution_count": 79,
     "metadata": {},
     "output_type": "execute_result"
    }
   ],
   "source": [
    "agents = []\n",
    "for _ in range(2):\n",
    "    agents.append([random.randint(0,99),random.randint(0,99)])\n",
    "agents"
   ]
  },
  {
   "cell_type": "code",
   "execution_count": 80,
   "metadata": {},
   "outputs": [
    {
     "name": "stdout",
     "output_type": "stream",
     "text": [
      "Normal:  [82, 26]\n",
      "itemgetter:  [6, 84]\n",
      "Custom key:  [6, 84]\n"
     ]
    }
   ],
   "source": [
    "print('Normal: ',max(agents))\n",
    "\n",
    "import operator\n",
    "print('itemgetter: ',max(agents,key=operator.itemgetter(1)))\n",
    "\n",
    "# or use custom:\n",
    "def second(l):\n",
    "    return l[1]\n",
    "print('Custom key: ',max(agents,key=second))"
   ]
  },
  {
   "cell_type": "code",
   "execution_count": 81,
   "metadata": {
    "scrolled": false
   },
   "outputs": [
    {
     "data": {
      "image/png": "[encoded data removed]",
      "text/plain": [
       "<matplotlib.figure.Figure at 0x80fdcf8>"
      ]
     },
     "metadata": {},
     "output_type": "display_data"
    }
   ],
   "source": [
    "#import matplotlib.pyplot as plt\n",
    "plt.ylim(0, 99)\n",
    "plt.xlim(0, 99)\n",
    "plt.scatter(agents[0][1],agents[0][0])\n",
    "plt.scatter(agents[1][1],agents[1][0])\n",
    "plt.show()"
   ]
  },
  {
   "cell_type": "code",
   "execution_count": 88,
   "metadata": {},
   "outputs": [
    {
     "data": {
      "image/png": "[encoded data removed]",
      "text/plain": [
       "<matplotlib.figure.Figure at 0x87fe550>"
      ]
     },
     "metadata": {},
     "output_type": "display_data"
    }
   ],
   "source": [
    "np_agents = np.array(agents)\n",
    "plt.ylim(0, 99)\n",
    "plt.xlim(0, 99)\n",
    "plt.scatter(np_agents[0,:],np_agents[:,0],c=['orange','blue'])\n",
    "plt.show()"
   ]
  },
  {
   "cell_type": "markdown",
   "metadata": {},
   "source": [
    "### Code Skrinking II"
   ]
  },
  {
   "cell_type": "code",
   "execution_count": null,
   "metadata": {
    "collapsed": true
   },
   "outputs": [],
   "source": []
  }
 ],
 "metadata": {
  "kernelspec": {
   "display_name": "Python 3",
   "language": "python",
   "name": "python3"
  },
  "language_info": {
   "codemirror_mode": {
    "name": "ipython",
    "version": 3
   },
   "file_extension": ".py",
   "mimetype": "text/x-python",
   "name": "python",
   "nbconvert_exporter": "python",
   "pygments_lexer": "ipython3",
   "version": "3.6.1"
  }
 },
 "nbformat": 4,
 "nbformat_minor": 2
}
