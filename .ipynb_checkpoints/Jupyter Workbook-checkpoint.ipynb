{
 "cells": [
  {
   "cell_type": "markdown",
   "metadata": {},
   "source": [
    "### ABM"
   ]
  },
  {
   "cell_type": "code",
   "execution_count": 51,
   "metadata": {},
   "outputs": [
    {
     "name": "stdout",
     "output_type": "stream",
     "text": [
      "Initial:  50 50\n",
      "Perturbed:  49 51\n",
      "5 more steps...  44 52\n"
     ]
    },
    {
     "data": {
      "text/plain": [
       "5.0990195135927845"
      ]
     },
     "execution_count": 51,
     "metadata": {},
     "output_type": "execute_result"
    }
   ],
   "source": [
    "y0, x0 = 50, 50 # y then x because of reading image files\n",
    "print('Initial: ',x0,y0)\n",
    "\n",
    "from random import choice\n",
    "def perturb(x): \n",
    "    pert = choice([-1,1])\n",
    "    return x + pert\n",
    "\n",
    "x0, y0 = perturb(x0), perturb(y0) \n",
    "print('Perturbed: ',x0, y0)\n",
    "\n",
    "x, y = x0, y0\n",
    "for _ in range(5):\n",
    "    x, y = perturb(x), perturb(y)\n",
    "print('5 more steps... ', x, y)\n",
    "\n",
    "import numpy as np\n",
    "def distance(x0,y0,x1,y1):\n",
    "    return np.sqrt((x1-x0)**2 + (y1-y0)**2)\n",
    "\n",
    "distance(x0,y0,x,y)"
   ]
  },
  {
   "cell_type": "markdown",
   "metadata": {},
   "source": [
    "### Code Shrinking"
   ]
  },
  {
   "cell_type": "code",
   "execution_count": null,
   "metadata": {
    "collapsed": true
   },
   "outputs": [],
   "source": []
  },
  {
   "cell_type": "code",
   "execution_count": null,
   "metadata": {
    "collapsed": true
   },
   "outputs": [],
   "source": []
  }
 ],
 "metadata": {
  "kernelspec": {
   "display_name": "Python 3",
   "language": "python",
   "name": "python3"
  },
  "language_info": {
   "codemirror_mode": {
    "name": "ipython",
    "version": 3
   },
   "file_extension": ".py",
   "mimetype": "text/x-python",
   "name": "python",
   "nbconvert_exporter": "python",
   "pygments_lexer": "ipython3",
   "version": "3.6.1"
  }
 },
 "nbformat": 4,
 "nbformat_minor": 2
}
